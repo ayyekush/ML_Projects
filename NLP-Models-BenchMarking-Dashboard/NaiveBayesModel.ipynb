{
 "cells": [
  {
   "cell_type": "code",
   "execution_count": 2,
   "metadata": {},
   "outputs": [],
   "source": [
    "# Load the dataset\n",
    "import pandas as pd\n",
    "train_df=pd.read_csv(\"DATASET/kindleReviewDataset.csv\",index_col=0)\n",
    "train_df=train_df.drop(columns=[i for i in train_df.columns if i not in [\"reviewText\",\"rating\"]])"
   ]
  },
  {
   "cell_type": "code",
   "execution_count": 3,
   "metadata": {},
   "outputs": [
    {
     "name": "stdout",
     "output_type": "stream",
     "text": [
      "rating        0\n",
      "reviewText    0\n",
      "dtype: int64 \n",
      "\n",
      "[3 5 4 2 1] \n",
      "\n",
      "rating\n",
      "5    3000\n",
      "4    3000\n",
      "3    2000\n",
      "2    2000\n",
      "1    2000\n",
      "Name: count, dtype: int64\n"
     ]
    }
   ],
   "source": [
    "##Sum functions\n",
    "print(train_df.isnull().sum(),\"\\n\") #to find no of missing values\n",
    "print(train_df['rating'].unique(),\"\\n\") #types of unique ratings\n",
    "print(train_df['rating'].value_counts()) #count per unique rating"
   ]
  },
  {
   "cell_type": "code",
   "execution_count": 4,
   "metadata": {},
   "outputs": [
    {
     "data": {
      "text/plain": [
       "rating\n",
       "5    3000\n",
       "4    3000\n",
       "3    2000\n",
       "2    2000\n",
       "1    2000\n",
       "Name: count, dtype: int64"
      ]
     },
     "execution_count": 4,
     "metadata": {},
     "output_type": "execute_result"
    }
   ],
   "source": [
    "## postive review is 1 and negative review is 0\n",
    "# train_df[\"rating\"]=train_df[\"rating\"].apply(lambda x: 0 if x<3 else 1)\n",
    "train_df['rating'].value_counts()"
   ]
  },
  {
   "cell_type": "code",
   "execution_count": 5,
   "metadata": {},
   "outputs": [],
   "source": [
    "## 1. Lower All the cases\n",
    "train_df['reviewText']=train_df['reviewText'].str.lower()"
   ]
  },
  {
   "cell_type": "code",
   "execution_count": 6,
   "metadata": {},
   "outputs": [],
   "source": [
    "import re\n",
    "import nltk\n",
    "from nltk.corpus import stopwords\n",
    "# nltk.download('stopwords')\n",
    "## Removing special characters (idk)\n",
    "train_df['reviewText']=train_df['reviewText'].apply(lambda x:re.sub('[^a-z A-z 0-9-]+', '',x))\n",
    "## Remove the stopswords\n",
    "train_df['reviewText']=train_df['reviewText'].apply(lambda x: \" \".join([y for y in x.split() if y not in stopwords.words('english')]))\n",
    "## Remove url (idk)\n",
    "train_df['reviewText']=train_df['reviewText'].apply(lambda x: re.sub(r'(http|https|ftp|ssh)://([\\w_-]+(?:(?:\\.[\\w_-]+)+))([\\w.,@?^=%&:/~+#-]*[\\w@?^=%&/~+#-])?', '' , str(x)))\n",
    "## Remove html tags (idk)\n",
    "# from bs4 import BeautifulSoup\n",
    "# train_df['reviewText']=train_df['reviewText'].apply(lambda x: BeautifulSoup(x, 'lxml').get_text())\n",
    "## Remove any additional spaces\n",
    "train_df['reviewText']=train_df['reviewText'].apply(lambda x: \" \".join(x.split()))"
   ]
  },
  {
   "cell_type": "code",
   "execution_count": 7,
   "metadata": {},
   "outputs": [
    {
     "data": {
      "text/html": [
       "<div>\n",
       "<style scoped>\n",
       "    .dataframe tbody tr th:only-of-type {\n",
       "        vertical-align: middle;\n",
       "    }\n",
       "\n",
       "    .dataframe tbody tr th {\n",
       "        vertical-align: top;\n",
       "    }\n",
       "\n",
       "    .dataframe thead th {\n",
       "        text-align: right;\n",
       "    }\n",
       "</style>\n",
       "<table border=\"1\" class=\"dataframe\">\n",
       "  <thead>\n",
       "    <tr style=\"text-align: right;\">\n",
       "      <th></th>\n",
       "      <th>rating</th>\n",
       "      <th>reviewText</th>\n",
       "    </tr>\n",
       "  </thead>\n",
       "  <tbody>\n",
       "    <tr>\n",
       "      <th>0</th>\n",
       "      <td>3</td>\n",
       "      <td>jace rankin may short hes nothing mess man hau...</td>\n",
       "    </tr>\n",
       "    <tr>\n",
       "      <th>1</th>\n",
       "      <td>5</td>\n",
       "      <td>great short read didnt want put read one sitti...</td>\n",
       "    </tr>\n",
       "    <tr>\n",
       "      <th>2</th>\n",
       "      <td>3</td>\n",
       "      <td>ill start saying first four books wasnt expect...</td>\n",
       "    </tr>\n",
       "    <tr>\n",
       "      <th>3</th>\n",
       "      <td>3</td>\n",
       "      <td>aggie angela lansbury carries pocketbooks inst...</td>\n",
       "    </tr>\n",
       "    <tr>\n",
       "      <th>4</th>\n",
       "      <td>4</td>\n",
       "      <td>expect type book library pleased find price right</td>\n",
       "    </tr>\n",
       "  </tbody>\n",
       "</table>\n",
       "</div>"
      ],
      "text/plain": [
       "   rating                                         reviewText\n",
       "0       3  jace rankin may short hes nothing mess man hau...\n",
       "1       5  great short read didnt want put read one sitti...\n",
       "2       3  ill start saying first four books wasnt expect...\n",
       "3       3  aggie angela lansbury carries pocketbooks inst...\n",
       "4       4  expect type book library pleased find price right"
      ]
     },
     "execution_count": 7,
     "metadata": {},
     "output_type": "execute_result"
    }
   ],
   "source": [
    "train_df.head()"
   ]
  },
  {
   "cell_type": "code",
   "execution_count": 8,
   "metadata": {},
   "outputs": [],
   "source": [
    "## Lemmatizer (root words basically)\n",
    "from nltk.stem import WordNetLemmatizer\n",
    "lemmatizer=WordNetLemmatizer()\n",
    "def lemmatize_words(text):\n",
    "    return \" \".join([lemmatizer.lemmatize(word) for word in text.split()])\n",
    "train_df['reviewText']=train_df['reviewText'].apply(lemmatize_words)"
   ]
  },
  {
   "cell_type": "code",
   "execution_count": 9,
   "metadata": {},
   "outputs": [
    {
     "data": {
      "text/html": [
       "<div>\n",
       "<style scoped>\n",
       "    .dataframe tbody tr th:only-of-type {\n",
       "        vertical-align: middle;\n",
       "    }\n",
       "\n",
       "    .dataframe tbody tr th {\n",
       "        vertical-align: top;\n",
       "    }\n",
       "\n",
       "    .dataframe thead th {\n",
       "        text-align: right;\n",
       "    }\n",
       "</style>\n",
       "<table border=\"1\" class=\"dataframe\">\n",
       "  <thead>\n",
       "    <tr style=\"text-align: right;\">\n",
       "      <th></th>\n",
       "      <th>rating</th>\n",
       "      <th>reviewText</th>\n",
       "    </tr>\n",
       "  </thead>\n",
       "  <tbody>\n",
       "    <tr>\n",
       "      <th>0</th>\n",
       "      <td>3</td>\n",
       "      <td>jace rankin may short he nothing mess man haul...</td>\n",
       "    </tr>\n",
       "    <tr>\n",
       "      <th>1</th>\n",
       "      <td>5</td>\n",
       "      <td>great short read didnt want put read one sitti...</td>\n",
       "    </tr>\n",
       "    <tr>\n",
       "      <th>2</th>\n",
       "      <td>3</td>\n",
       "      <td>ill start saying first four book wasnt expecti...</td>\n",
       "    </tr>\n",
       "    <tr>\n",
       "      <th>3</th>\n",
       "      <td>3</td>\n",
       "      <td>aggie angela lansbury carry pocketbook instead...</td>\n",
       "    </tr>\n",
       "    <tr>\n",
       "      <th>4</th>\n",
       "      <td>4</td>\n",
       "      <td>expect type book library pleased find price right</td>\n",
       "    </tr>\n",
       "  </tbody>\n",
       "</table>\n",
       "</div>"
      ],
      "text/plain": [
       "   rating                                         reviewText\n",
       "0       3  jace rankin may short he nothing mess man haul...\n",
       "1       5  great short read didnt want put read one sitti...\n",
       "2       3  ill start saying first four book wasnt expecti...\n",
       "3       3  aggie angela lansbury carry pocketbook instead...\n",
       "4       4  expect type book library pleased find price right"
      ]
     },
     "execution_count": 9,
     "metadata": {},
     "output_type": "execute_result"
    }
   ],
   "source": [
    "train_df.head()"
   ]
  },
  {
   "cell_type": "code",
   "execution_count": 10,
   "metadata": {},
   "outputs": [],
   "source": [
    "## Train Test Split\n",
    "from sklearn.model_selection import train_test_split\n",
    "X_train,X_test,y_train,y_test=train_test_split(train_df['reviewText'],train_df['rating'],\n",
    "                                              test_size=0.20,random_state=69)"
   ]
  },
  {
   "cell_type": "code",
   "execution_count": 11,
   "metadata": {},
   "outputs": [],
   "source": [
    "# Feature Extraction Techinque\n",
    "# By Bag Of Words : basically concentrated OHE\n",
    "from sklearn.feature_extraction.text import CountVectorizer\n",
    "bow=CountVectorizer()\n",
    "X_train_bow=bow.fit_transform(X_train).toarray()\n",
    "X_test_bow=bow.transform(X_test).toarray()"
   ]
  },
  {
   "cell_type": "code",
   "execution_count": 12,
   "metadata": {},
   "outputs": [
    {
     "data": {
      "text/plain": [
       "array([0, 0, 0, ..., 0, 0, 0])"
      ]
     },
     "execution_count": 12,
     "metadata": {},
     "output_type": "execute_result"
    }
   ],
   "source": [
    "X_train_bow[0]"
   ]
  },
  {
   "cell_type": "code",
   "execution_count": 13,
   "metadata": {},
   "outputs": [],
   "source": [
    "# Feature Extraction Techinque\n",
    "# tfidf: BOW me 1 ki jagah a calculated relative value\n",
    "#       (captures importance of a word)\n",
    "from sklearn.feature_extraction.text import TfidfVectorizer\n",
    "tfidf=TfidfVectorizer()\n",
    "X_train_tfidf=tfidf.fit_transform(X_train).toarray()\n",
    "X_test_tfidf=tfidf.transform(X_test).toarray()"
   ]
  },
  {
   "cell_type": "code",
   "execution_count": 14,
   "metadata": {},
   "outputs": [],
   "source": [
    "# Naive-Bayes : Classification Technique\n",
    "#works well with small datasets and bow/tfidf\n",
    "#it works on X_train only ofc! not dependent on how \n",
    "#    many classses y_train have, they all support\n",
    "#    multiclass classification.\n",
    "\n",
    "#BernoulliNB: for if only presence of feature matters\n",
    "#   like suppose x_train[0]:[0,2,1,0]=>[0,1,1,0]\n",
    "#   useful in say spam classificaiton(we need whether spam word present or not)\n",
    "#  -movie review me positive review me suppose fantastic 5 baar aa raha hai\n",
    "#       aur boring ek baar, par dono ki keemat same=>unfair for data like these\n",
    "  \n",
    "# MultiNomialNB: for when frequency matters too\n",
    "#   like x_train[0]:[0,2,1,0]=>[0,2,1,0]\n",
    "#   works best with textual data(like this example)\n",
    "#   -fantastic ki keemat zyada hogi,\n",
    "  \n",
    "# gusssian dist!=>countinous\n",
    "# GaussianNB: for when data is in guassian dist,\n",
    "#   i.e., it follows bell curve\n",
    "#  -suppose if most movie reviews are 2-3 out of 5,\n",
    "#   then gnb will work better than mnb\n",
    "\n",
    "from sklearn.naive_bayes import BernoulliNB\n",
    "bnb_model_bow=BernoulliNB().fit(X_train_bow,y_train)\n",
    "bnb_model_tfidf=BernoulliNB().fit(X_train_tfidf,y_train)\n",
    "from sklearn.naive_bayes import MultinomialNB\n",
    "mnb_model_bow=MultinomialNB().fit(X_train_bow,y_train)\n",
    "mnb_model_tfidf=MultinomialNB().fit(X_train_tfidf,y_train)\n",
    "from sklearn.naive_bayes import GaussianNB\n",
    "gnb_model_bow=GaussianNB().fit(X_train_bow,y_train)\n",
    "gnb_model_tfidf=GaussianNB().fit(X_train_tfidf,y_train)"
   ]
  },
  {
   "cell_type": "code",
   "execution_count": 15,
   "metadata": {},
   "outputs": [],
   "source": [
    "y_pred_bow_bnb  =bnb_model_bow.predict(X_test_bow)\n",
    "y_pred_bow_mnb  =mnb_model_bow.predict(X_test_bow)\n",
    "y_pred_bow_gnb  =gnb_model_bow.predict(X_test_bow)"
   ]
  },
  {
   "cell_type": "code",
   "execution_count": 16,
   "metadata": {},
   "outputs": [],
   "source": [
    "y_pred_tfidf_bnb= bnb_model_bow.predict(X_test_tfidf)\n",
    "y_pred_tfidf_mnb= mnb_model_bow.predict(X_test_tfidf)\n",
    "y_pred_tfidf_gnb= gnb_model_bow.predict(X_test_tfidf)"
   ]
  },
  {
   "cell_type": "code",
   "execution_count": 18,
   "metadata": {},
   "outputs": [
    {
     "name": "stdout",
     "output_type": "stream",
     "text": [
      "BOW accuracy:bnb  0.39458333333333334\n",
      "BOW accuracy:mnb  0.48541666666666666\n",
      "BOW accuracy:gnb  0.31\n"
     ]
    }
   ],
   "source": [
    "from sklearn.metrics import accuracy_score,confusion_matrix\n",
    "print(\"BOW accuracy:bnb \",accuracy_score(y_test,y_pred_bow_bnb))\n",
    "print(\"BOW accuracy:mnb \",accuracy_score(y_test,y_pred_bow_mnb))\n",
    "print(\"BOW accuracy:gnb \",accuracy_score(y_test,y_pred_bow_gnb))"
   ]
  },
  {
   "cell_type": "code",
   "execution_count": 19,
   "metadata": {},
   "outputs": [
    {
     "name": "stdout",
     "output_type": "stream",
     "text": [
      "TFIDF accuracy:bnb  0.39458333333333334\n",
      "TFIDF accuracy:mnb  0.4633333333333333\n",
      "TFIDF accuracy:gnb  0.3120833333333333\n"
     ]
    }
   ],
   "source": [
    "print(\"TFIDF accuracy:bnb \",accuracy_score(y_test,y_pred_tfidf_bnb))\n",
    "print(\"TFIDF accuracy:mnb \",accuracy_score(y_test,y_pred_tfidf_mnb))\n",
    "print(\"TFIDF accuracy:gnb \",accuracy_score(y_test,y_pred_tfidf_gnb))"
   ]
  },
  {
   "cell_type": "code",
   "execution_count": 21,
   "metadata": {},
   "outputs": [
    {
     "name": "stdout",
     "output_type": "stream",
     "text": [
      "[[144  41  14  36 176]\n",
      " [ 62  76  41  58 183]\n",
      " [ 26  35  45 120 196]\n",
      " [  3   5  22 231 306]\n",
      " [  2   3   9 115 451]]\n",
      "[[171 110  20  87  23]\n",
      " [ 78 154  56 103  29]\n",
      " [ 29  55  69 219  50]\n",
      " [  6  12  21 374 154]\n",
      " [  6   6   7 217 344]]\n",
      "[[204  72  44  62  29]\n",
      " [166  88  44  72  50]\n",
      " [146  59  82  78  57]\n",
      " [147  70  68 191  91]\n",
      " [144  87  73  92 184]]\n"
     ]
    }
   ],
   "source": [
    "from sklearn.metrics import confusion_matrix,accuracy_score\n",
    "\n",
    "## How to read confusion matrix\n",
    "#diagonal elements: Correct predictions.\n",
    "#off-diagonal elements: Misclassifications.\n",
    "# suppose for row 1(class 1):\n",
    "# 204 times, class 1 was correctly predicted as 1.\n",
    "# 72 times, class 1 was misclassified as class 2.\n",
    "# 50 times, class 2 was misclassified as class 5.\n",
    "# 191 times, class 4 was correctly predicted as 4.\n",
    "# 92 times, class 5 was misclassified as class 4.\n",
    "print(f\"{confusion_matrix(y_test,y_pred_tfidf_bnb)}\")\n",
    "print(f\"{confusion_matrix(y_test,y_pred_tfidf_mnb)}\")\n",
    "print(f\"{confusion_matrix(y_test,y_pred_tfidf_gnb)}\")\n",
    "#the confusion matrix is 5*5 since len(y_test.unique())=5"
   ]
  }
 ],
 "metadata": {
  "kernelspec": {
   "display_name": "Python 3",
   "language": "python",
   "name": "python3"
  },
  "language_info": {
   "codemirror_mode": {
    "name": "ipython",
    "version": 3
   },
   "file_extension": ".py",
   "mimetype": "text/x-python",
   "name": "python",
   "nbconvert_exporter": "python",
   "pygments_lexer": "ipython3",
   "version": "3.12.9"
  }
 },
 "nbformat": 4,
 "nbformat_minor": 4
}
